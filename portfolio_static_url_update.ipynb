{
  "cells": [
    {
      "cell_type": "code",
      "execution_count": 1,
      "metadata": {
        "id": "_mGhKVIBbapi"
      },
      "outputs": [],
      "source": [
        "import requests\n",
        "import pandas as pd\n",
        "import os\n",
        "%load_ext dotenv\n",
        "%dotenv keys.env"
      ]
    },
    {
      "cell_type": "code",
      "execution_count": 2,
      "metadata": {
        "id": "AASkdV9Mbb1D"
      },
      "outputs": [],
      "source": [
        "api_key = os.getenv('electronicKey') # API key stored in .env file\n",
        "params = {\n",
        "    'apiKey': api_key, \n",
        "    'format': 'json',\n",
        "    } \n",
        "\n",
        "headers = { \n",
        "    'Content-Type' : 'application/json',\n",
        "    'Authorization' : 'apikey '+api_key\n",
        "    } "
      ]
    },
    {
      "cell_type": "code",
      "execution_count": 20,
      "metadata": {
        "id": "s86fCLyXbddo"
      },
      "outputs": [],
      "source": [
        "df = pd.read_excel('.xlsx', dtype=str).to_dict('records') # read in the excel file"
      ]
    },
    {
      "cell_type": "code",
      "execution_count": null,
      "metadata": {
        "id": "G3c9TN8ltt4-"
      },
      "outputs": [],
      "source": [
        "for row in df:\n",
        "    collection_id = row['Electronic Collection Id']\n",
        "    portfolio_id = row['Portfolio Id']\n",
        "    service_id = row['Service Id']\n",
        "\n",
        "    url = f'https://api-na.hosted.exlibrisgroup.com/almaws/v1/electronic/e-collections/{collection_id}/e-services/{service_id}/portfolios/{portfolio_id}' # url for the API call\n",
        "\n",
        "    response = requests.get(url, params=params) # API call\n",
        "    data = response.json() # convert the response to json\n",
        "\n",
        "    try:\n",
        "        data['linking_details']['static_url'] = data['linking_details']['static_url'].replace('http://prox.miracosta.edu/login?url=', '') # remove the proxy from the static url\n",
        "        a = requests.put(url, json=data, headers=headers) # update the portfolio\n",
        "        print(f'Portfolio: {portfolio_id}, {a}') # print the response\n",
        "        log = open('log.txt', 'a') # log the response\n",
        "        log.write(f'Portfolio: {portfolio_id}, {a} \\n') \n",
        "        log.close()\n",
        "\n",
        "    except KeyError as error:\n",
        "        f = open('error_log.txt', 'a')\n",
        "        f.write(f'Portfolio: {portfolio_id}, error: {error} \\n')     \n",
        "        print(f'Portfolio: {portfolio_id}, error: {error}')\n",
        "        f.close()"
      ]
    }
  ],
  "metadata": {
    "colab": {
      "provenance": []
    },
    "kernelspec": {
      "display_name": "Python 3",
      "name": "python3"
    },
    "language_info": {
      "codemirror_mode": {
        "name": "ipython",
        "version": 3
      },
      "file_extension": ".py",
      "mimetype": "text/x-python",
      "name": "python",
      "nbconvert_exporter": "python",
      "pygments_lexer": "ipython3",
      "version": "3.11.3"
    }
  },
  "nbformat": 4,
  "nbformat_minor": 0
}
