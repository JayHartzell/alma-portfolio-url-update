{
  "cells": [
    {
      "cell_type": "code",
      "execution_count": null,
      "metadata": {
        "id": "zRYMXhGJwr4y"
      },
      "outputs": [],
      "source": [
        "%pip install python-dotenv asyncio_throttle aiohttp"
      ]
    },
    {
      "cell_type": "code",
      "execution_count": 2,
      "metadata": {
        "id": "RktfzdODwwMp"
      },
      "outputs": [],
      "source": [
        "import aiohttp\n",
        "import asyncio\n",
        "from asyncio_throttle import Throttler\n",
        "import pandas as pd\n",
        "import os"
      ]
    },
    {
      "cell_type": "code",
      "execution_count": 3,
      "metadata": {
        "id": "3cezeZPPwziC"
      },
      "outputs": [],
      "source": [
        "%load_ext dotenv\n",
        "%dotenv keys.env"
      ]
    },
    {
      "cell_type": "code",
      "execution_count": 6,
      "metadata": {
        "id": "KhwFSO02w2lp"
      },
      "outputs": [],
      "source": [
        "api_key = os.getenv('electronicKey') # get the api key from the .env file\n",
        "\n",
        "headers = { \n",
        "            'Content-Type' : 'application/json',\n",
        "            'Authorization' : f\"apikey {api_key}\",\n",
        "            'accept' : 'application/json'\n",
        "            } # set the headers for the API call"
      ]
    },
    {
      "cell_type": "code",
      "execution_count": 12,
      "metadata": {
        "id": "TE5TJIWxxBqj"
      },
      "outputs": [],
      "source": [
        "df = pd.read_excel('.xlsx', dtype=str) # name of the excel file in the home directory. Columns must include: Portfolio Id, Portfolio Static URL, Service Id"
      ]
    },
    {
      "cell_type": "code",
      "execution_count": 13,
      "metadata": {
        "id": "8QCjeXxLxCli"
      },
      "outputs": [],
      "source": [
        "async def update_portfolio(session, url, headers, portfolio_id): \n",
        "    async with session.get(url) as response: # get the portfolio\n",
        "        content_type = response.headers.get('content-type', '')\n",
        "        if 'application/json' in content_type: # check if the response is json\n",
        "            data = await response.json() # convert the response to json\n",
        "            try:\n",
        "                data['linking_details']['static_url'] = data['linking_details']['static_url'].replace('', '') # .replace('string to replace', 'string to replace with')\n",
        "                # data['linking_details']['static_url_override'] = data['linking_details']['static_url_override'].replace('', '') # uncomment to use the static_url_override field\n",
        "\n",
        "                async with session.put(url, json=data, headers=headers) as update_response:  # update the portfolio\n",
        "                    response_text = await update_response.text() # get the response text\n",
        "                    print(f'Portfolio: {portfolio_id}, {response_text}') # print the response\n",
        "                    with open('log.txt', 'a') as log: # log the response\n",
        "                        log.write(f'Portfolio: {portfolio_id}, success \\n') \n",
        "            except KeyError as error:\n",
        "                with open('error_log.txt', 'a') as f:\n",
        "                    f.write(f'Portfolio: {portfolio_id}, error: {error} \\n')     \n",
        "                    print(f'Portfolio: {portfolio_id}, error: {error}')\n",
        "        else:\n",
        "            response_text = await response.text()\n",
        "            with open('error_log.txt', 'a') as f: # log the response\n",
        "                f.write(f'Unexpected MIME type: {portfolio_id}, {response_text} \\n')"
      ]
    },
    {
      "cell_type": "code",
      "execution_count": 14,
      "metadata": {
        "id": "1TpcDuZMxeYr"
      },
      "outputs": [],
      "source": [
        "async def process_rows(rows, headers, api_key):\n",
        "\n",
        "    async with aiohttp.ClientSession(headers=headers) as session: # create the session\n",
        "        throttler = Throttler(rate_limit=20) # set the rate limit\n",
        "        tasks = []\n",
        "        for index, row in rows.iterrows(): # iterate through the rows of the dataframe\n",
        "            collection_id = row['Electronic Collection Id']\n",
        "            portfolio_id = row['Portfolio Id']\n",
        "            service_id = row['Service Id']\n",
        "\n",
        "            url = f'https://api-na.hosted.exlibrisgroup.com/almaws/v1/electronic/e-collections/{collection_id}/e-services/{service_id}/portfolios/{portfolio_id}' # url for the API call\n",
        "\n",
        "            async with throttler: # throttle the API calls\n",
        "                tasks.append(asyncio.ensure_future(update_portfolio(session, url, headers, portfolio_id))) # add the task to the list of tasks\n",
        "\n",
        "        await asyncio.gather(*tasks)  # gather the tasks"
      ]
    },
    {
      "cell_type": "code",
      "execution_count": null,
      "metadata": {
        "id": "ZXG1Aen9xiFj"
      },
      "outputs": [],
      "source": [
        "await process_rows(df, headers, api_key)"
      ]
    }
  ],
  "metadata": {
    "colab": {
      "provenance": []
    },
    "kernelspec": {
      "display_name": "Python 3",
      "name": "python3"
    },
    "language_info": {
      "codemirror_mode": {
        "name": "ipython",
        "version": 3
      },
      "file_extension": ".py",
      "mimetype": "text/x-python",
      "name": "python",
      "nbconvert_exporter": "python",
      "pygments_lexer": "ipython3",
      "version": "3.11.3"
    }
  },
  "nbformat": 4,
  "nbformat_minor": 0
}
